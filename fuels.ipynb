{
 "cells": [
  {
   "cell_type": "code",
   "execution_count": 4,
   "metadata": {
    "collapsed": true
   },
   "outputs": [],
   "source": [
    "import pandas as pd\n",
    "import requests\n",
    "from tqdm.auto import tqdm\n",
    "from collections import defaultdict"
   ]
  },
  {
   "cell_type": "code",
   "execution_count": 5,
   "outputs": [],
   "source": [
    "headers = {'X-Requested-With': 'XMLHttpRequest'}\n",
    "payload = ({'region':'77'})\n",
    "url = 'http://www.rosneft-azs.ru/map_search'\n",
    "r = requests.post(url, data=payload, headers=headers)"
   ],
   "metadata": {
    "collapsed": false
   }
  },
  {
   "cell_type": "code",
   "execution_count": 5,
   "outputs": [],
   "source": [],
   "metadata": {
    "collapsed": false
   }
  },
  {
   "cell_type": "code",
   "execution_count": 6,
   "outputs": [],
   "source": [
    "res = r.json()"
   ],
   "metadata": {
    "collapsed": false
   }
  },
  {
   "cell_type": "code",
   "execution_count": 7,
   "outputs": [],
   "source": [
    "stations = res['stations']"
   ],
   "metadata": {
    "collapsed": false
   }
  },
  {
   "cell_type": "code",
   "execution_count": 8,
   "outputs": [
    {
     "data": {
      "text/plain": "{'id': 58520,\n 'name': 'РН-Ростовнефтепродукт',\n 'brand': 0,\n 'rename_fora': 1,\n 'floating': 0,\n 'address': 'Ростовская обл., Мясниковский р-н, п. Чалтырь, а/д М23, 9 км, слева',\n 'region_code': 61,\n 'contacts': '',\n 'email': '',\n 'lat': 47.26534,\n 'lng': 39.58035,\n 'services': {'shop': 1,\n  'cafe': 1,\n  'wash': 0,\n  'tire': 0,\n  'hotel': 0,\n  'yagas': 1,\n  'electro': 0,\n  'qrpay': 1,\n  'cash': 1,\n  'finmarket': 0,\n  'chemistry': 0,\n  'visa': 1},\n 'charger_power': '',\n 'price': [{'available': 1, 'type': 92, 'price': 48.24},\n  {'available': 1, 'type': '92_fora', 'price': 49.84},\n  {'available': 0, 'type': 95, 'price': 0},\n  {'available': 1, 'type': '95_fora', 'price': 54.94},\n  {'available': 0, 'type': '95_jet', 'price': 0},\n  {'available': 0, 'type': 98, 'price': 0},\n  {'available': 0, 'type': '98_fora', 'price': 0},\n  {'available': 0, 'type': 100, 'price': 0},\n  {'available': 0, 'type': '100_pulsar', 'price': 0},\n  {'available': 1, 'type': 'diesel', 'price': 55.2},\n  {'available': 0, 'type': 'diesel_fora', 'price': 0},\n  {'available': 0, 'type': 'gas', 'price': 0},\n  {'available': 0, 'type': 'methane', 'price': 0}],\n 'schedule': {'mon': {'available': 1, 'start': '', 'end': ''},\n  'tue': {'available': 1, 'start': '', 'end': ''},\n  'wed': {'available': 1, 'start': '', 'end': ''},\n  'thu': {'available': 1, 'start': '', 'end': ''},\n  'fri': {'available': 1, 'start': '', 'end': ''},\n  'sut': {'available': 1, 'start': '', 'end': ''},\n  'sun': {'available': 1, 'start': '', 'end': ''}},\n 'last_update': '15.03.2023',\n 'mask': '6390672'}"
     },
     "execution_count": 8,
     "metadata": {},
     "output_type": "execute_result"
    }
   ],
   "source": [
    "stations[0]"
   ],
   "metadata": {
    "collapsed": false
   }
  },
  {
   "cell_type": "code",
   "execution_count": 10,
   "outputs": [],
   "source": [
    "url = 'http://www.rosneft-azs.ru/map_search'"
   ],
   "metadata": {
    "collapsed": false
   }
  },
  {
   "cell_type": "code",
   "execution_count": 11,
   "outputs": [
    {
     "data": {
      "text/plain": "  0%|          | 0/2330 [00:00<?, ?it/s]",
      "application/vnd.jupyter.widget-view+json": {
       "version_major": 2,
       "version_minor": 0,
       "model_id": "24ff4b2286564e5e900c3dc413661ada"
      }
     },
     "metadata": {},
     "output_type": "display_data"
    }
   ],
   "source": [
    "# Формируем словарь со списками для колонок таблицы\n",
    "# tab_dict = {'Azs':[],'Address' :[],'Price92':[],'Price95':[]}\n",
    "tab_dict = defaultdict(list)\n",
    "# Заполняем списки с помощью цикла\n",
    "for station in tqdm(stations):\n",
    "    tab_dict['Azs'].append(station['id'])\n",
    "    tab_dict['Address'].append(station['address'])\n",
    "    for d in station['price']:\n",
    "        if d['type'] == 92:\n",
    "            tab_dict['Price92'].append(d['price'])\n",
    "        elif d['type'] == 95:\n",
    "            tab_dict['Price95'].append(d['price'])"
   ],
   "metadata": {
    "collapsed": false
   }
  },
  {
   "cell_type": "code",
   "execution_count": 12,
   "outputs": [
    {
     "data": {
      "text/plain": "     Azs                                            Address  Price92  Price95\n0  58520  Ростовская обл., Мясниковский р-н, п. Чалтырь,...    48.24     0.00\n1  58316  Владимирская обл., Судогодский р-н, д. Лаврово...    46.80    50.40\n2  58519  Ростовская обл., г. Ростов-на-Дону, ул. 40 Лет...    48.24    52.94\n3  58509        Калужская обл., г. Калуга, ул. Зерновая, 34    45.30    48.40\n4  58511  Калужская обл., Боровский р-н, г. Балабаново, ...    45.30    48.55",
      "text/html": "<div>\n<style scoped>\n    .dataframe tbody tr th:only-of-type {\n        vertical-align: middle;\n    }\n\n    .dataframe tbody tr th {\n        vertical-align: top;\n    }\n\n    .dataframe thead th {\n        text-align: right;\n    }\n</style>\n<table border=\"1\" class=\"dataframe\">\n  <thead>\n    <tr style=\"text-align: right;\">\n      <th></th>\n      <th>Azs</th>\n      <th>Address</th>\n      <th>Price92</th>\n      <th>Price95</th>\n    </tr>\n  </thead>\n  <tbody>\n    <tr>\n      <th>0</th>\n      <td>58520</td>\n      <td>Ростовская обл., Мясниковский р-н, п. Чалтырь,...</td>\n      <td>48.24</td>\n      <td>0.00</td>\n    </tr>\n    <tr>\n      <th>1</th>\n      <td>58316</td>\n      <td>Владимирская обл., Судогодский р-н, д. Лаврово...</td>\n      <td>46.80</td>\n      <td>50.40</td>\n    </tr>\n    <tr>\n      <th>2</th>\n      <td>58519</td>\n      <td>Ростовская обл., г. Ростов-на-Дону, ул. 40 Лет...</td>\n      <td>48.24</td>\n      <td>52.94</td>\n    </tr>\n    <tr>\n      <th>3</th>\n      <td>58509</td>\n      <td>Калужская обл., г. Калуга, ул. Зерновая, 34</td>\n      <td>45.30</td>\n      <td>48.40</td>\n    </tr>\n    <tr>\n      <th>4</th>\n      <td>58511</td>\n      <td>Калужская обл., Боровский р-н, г. Балабаново, ...</td>\n      <td>45.30</td>\n      <td>48.55</td>\n    </tr>\n  </tbody>\n</table>\n</div>"
     },
     "execution_count": 12,
     "metadata": {},
     "output_type": "execute_result"
    }
   ],
   "source": [
    "rn = pd.DataFrame.from_dict(tab_dict)\n",
    "rn.head()"
   ],
   "metadata": {
    "collapsed": false
   }
  },
  {
   "cell_type": "code",
   "execution_count": 12,
   "outputs": [],
   "source": [
    "# Добавить в таблицу другие виды топлива\n",
    "#----- Ваш код здесь ----"
   ],
   "metadata": {
    "collapsed": false
   }
  },
  {
   "cell_type": "code",
   "execution_count": null,
   "outputs": [],
   "source": [
    "# Отделить регионы от адреса АЗС\n",
    "#----- Ваш код здесь ----"
   ],
   "metadata": {
    "collapsed": false
   }
  },
  {
   "cell_type": "code",
   "execution_count": null,
   "outputs": [],
   "source": [
    "# Выбрать АЗС из Белоруссии и сохранить в rnbelarus\n",
    "#----- Ваш код здесь ---"
   ],
   "metadata": {
    "collapsed": false
   }
  },
  {
   "cell_type": "code",
   "execution_count": null,
   "outputs": [],
   "source": [
    "# Пересчитать цены rnbelarus в рубли\n",
    "#----- Ваш код здесь ----"
   ],
   "metadata": {
    "collapsed": false
   }
  },
  {
   "cell_type": "code",
   "execution_count": null,
   "outputs": [],
   "source": [
    "# Убрать АЗС из Белоруссии из таблциы rn\n",
    "#----- Ваш код здесь ----"
   ],
   "metadata": {
    "collapsed": false
   }
  },
  {
   "cell_type": "code",
   "execution_count": null,
   "outputs": [],
   "source": [
    "# Расчитать средние цены на топливо по регионам\n",
    "#----- Ваш код здесь ----"
   ],
   "metadata": {
    "collapsed": false
   }
  },
  {
   "cell_type": "code",
   "execution_count": null,
   "outputs": [],
   "source": [
    "# Создать директорию regional_prices\n",
    "#----- Ваш код здесь ----"
   ],
   "metadata": {
    "collapsed": false
   }
  },
  {
   "cell_type": "code",
   "execution_count": null,
   "outputs": [],
   "source": [
    "# Записать в отдельный .csv файл цены для каждого региона.\n",
    "# Разделить должен быть знак табуляции sep='\\t'\n",
    "# Название файла записать как название региона, заменив пробел на _\n",
    "#----- Ваш код здесь ----"
   ],
   "metadata": {
    "collapsed": false
   }
  },
  {
   "cell_type": "code",
   "execution_count": null,
   "outputs": [],
   "source": [
    "# Выведите содержимое директории в переменную list_of_files\n",
    "#----- Ваш код здесь ----"
   ],
   "metadata": {
    "collapsed": false
   }
  },
  {
   "cell_type": "code",
   "execution_count": null,
   "outputs": [],
   "source": [
    "# Создайте словарь regional_prices и заполните его таким образом, чтобы\n",
    "# ключ был название файла без .csv, а значения - список строк, счиатанных из файла\n",
    "#----- Ваш код здесь ----"
   ],
   "metadata": {
    "collapsed": false
   }
  },
  {
   "cell_type": "code",
   "execution_count": null,
   "outputs": [],
   "source": [
    "# Соберите таблицу rnnew из словаря regional_prices\n",
    "#----- Ваш код здесь ----"
   ],
   "metadata": {
    "collapsed": false
   }
  }
 ],
 "metadata": {
  "kernelspec": {
   "display_name": "Python 3",
   "language": "python",
   "name": "python3"
  },
  "language_info": {
   "codemirror_mode": {
    "name": "ipython",
    "version": 2
   },
   "file_extension": ".py",
   "mimetype": "text/x-python",
   "name": "python",
   "nbconvert_exporter": "python",
   "pygments_lexer": "ipython2",
   "version": "2.7.6"
  }
 },
 "nbformat": 4,
 "nbformat_minor": 0
}
